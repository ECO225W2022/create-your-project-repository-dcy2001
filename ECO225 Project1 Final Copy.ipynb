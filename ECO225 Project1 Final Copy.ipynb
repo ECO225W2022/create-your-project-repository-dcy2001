{
 "cells": [
  {
   "cell_type": "markdown",
   "id": "b4dd5bbd",
   "metadata": {},
   "source": [
    "# How Tweets Influenced the Outcome of the2020 US Presidential Election"
   ]
  },
  {
   "cell_type": "markdown",
   "id": "8962d66b",
   "metadata": {},
   "source": [
    "## Introduction"
   ]
  },
  {
   "cell_type": "markdown",
   "id": "23d3c35c",
   "metadata": {},
   "source": [
    "Social Media build an online community for people to gain information and share ideas rapidly. As a quick and effective form of communication, social media generates great visibility around business, political, and other social issues. Platform such as Twitter is increasingly used for people to share their views, especially during election time. Therefore, we want to find the relationship between the 2020 US presidential election outcome and Twitter’s various features. Given the data provided by Manch Hui, we conduct data analysis to examine our research question. The data is collected based on two main candidates - Donald Trump and Joe Biden, including relative tweets, time horizon and other user account information. \n",
    "\n",
    "To better illustrate the effect of tweets, we will proceed with the analysis through three perspectives - total exposure perspective, timeline perspective and geographical perspective. The outcome for all three perspectives is the result of the 2020 US Election(Joe Biden won), and the predictive covariates are “tweet”, “retweets”, “likes” and “users followers”.The total exposure perspective is solely based on the summary statistics of the predictive covariates. We will compare the total values of these variables between the two candidates. The timeline perspective works with an additional variable called “created_at”, which is when tweets are created. Then reflect the change of predictive covariates in chronological order. The geographical perspective uses geographical information and will examine and visualize data according to different regions. At this stage, we will focus on the total exposure perspective and timeline perspective.\n"
   ]
  },
  {
   "cell_type": "code",
   "execution_count": 42,
   "id": "8c926ea6",
   "metadata": {},
   "outputs": [],
   "source": [
    "import pandas as pd\n",
    "import numpy as np\n",
    "import qeds\n",
    "import matplotlib.pyplot as plt\n",
    "import seaborn as sns"
   ]
  },
  {
   "cell_type": "code",
   "execution_count": 2,
   "id": "fe6d9ce3",
   "metadata": {},
   "outputs": [],
   "source": [
    "#clean data set, delete useless columns and save as DataFrame.\n",
    "Trump_data = pd.read_csv('/Users/dongchenyi/Desktop/ECO225 Project/Data/archive/hashtag_donaldtrump.csv', \n",
    "                         lineterminator='\\n')\n",
    "Trump = pd.DataFrame(Trump_data).drop(columns = [\"tweet_id\", \"source\", \"user_id\", \n",
    "                                                 \"user_name\", \"user_screen_name\",\n",
    "                                                 \"user_description\", \"user_join_date\"])\n",
    "Biden_data = pd.read_csv('/Users/dongchenyi/Desktop/ECO225 Project/Data/archive/hashtag_joebiden.csv', \n",
    "                         lineterminator='\\n')\n",
    "Biden = pd.DataFrame(Biden_data).drop(columns = [\"tweet_id\", \"source\", \"user_id\", \n",
    "                                                 \"user_name\", \"user_screen_name\",\n",
    "                                                 \"user_description\", \"user_join_date\"])"
   ]
  },
  {
   "cell_type": "code",
   "execution_count": 35,
   "id": "b10c6346",
   "metadata": {},
   "outputs": [
    {
     "data": {
      "text/html": [
       "<div>\n",
       "<style scoped>\n",
       "    .dataframe tbody tr th:only-of-type {\n",
       "        vertical-align: middle;\n",
       "    }\n",
       "\n",
       "    .dataframe tbody tr th {\n",
       "        vertical-align: top;\n",
       "    }\n",
       "\n",
       "    .dataframe thead th {\n",
       "        text-align: right;\n",
       "    }\n",
       "</style>\n",
       "<table border=\"1\" class=\"dataframe\">\n",
       "  <thead>\n",
       "    <tr style=\"text-align: right;\">\n",
       "      <th></th>\n",
       "      <th>created_at</th>\n",
       "      <th>tweet</th>\n",
       "      <th>likes</th>\n",
       "      <th>retweet_count</th>\n",
       "      <th>user_followers_count</th>\n",
       "      <th>user_location</th>\n",
       "      <th>lat</th>\n",
       "      <th>long</th>\n",
       "      <th>city</th>\n",
       "      <th>country</th>\n",
       "      <th>continent</th>\n",
       "      <th>state</th>\n",
       "      <th>state_code</th>\n",
       "      <th>collected_at</th>\n",
       "      <th>candidate</th>\n",
       "    </tr>\n",
       "  </thead>\n",
       "  <tbody>\n",
       "    <tr>\n",
       "      <th>0</th>\n",
       "      <td>2020-10-15</td>\n",
       "      <td>#Elecciones2020 | En #Florida: #JoeBiden dice ...</td>\n",
       "      <td>0.0</td>\n",
       "      <td>0.0</td>\n",
       "      <td>1860.0</td>\n",
       "      <td>Philadelphia, PA / Miami, FL</td>\n",
       "      <td>25.774270</td>\n",
       "      <td>-80.193660</td>\n",
       "      <td>NaN</td>\n",
       "      <td>United States of America</td>\n",
       "      <td>North America</td>\n",
       "      <td>Florida</td>\n",
       "      <td>FL</td>\n",
       "      <td>2020-10-21 00:00:00</td>\n",
       "      <td>Donald Trump</td>\n",
       "    </tr>\n",
       "    <tr>\n",
       "      <th>1</th>\n",
       "      <td>2020-10-15</td>\n",
       "      <td>Usa 2020, Trump contro Facebook e Twitter: cop...</td>\n",
       "      <td>26.0</td>\n",
       "      <td>9.0</td>\n",
       "      <td>1067661.0</td>\n",
       "      <td>NaN</td>\n",
       "      <td>NaN</td>\n",
       "      <td>NaN</td>\n",
       "      <td>NaN</td>\n",
       "      <td>NaN</td>\n",
       "      <td>NaN</td>\n",
       "      <td>NaN</td>\n",
       "      <td>NaN</td>\n",
       "      <td>2020-10-21 00:00:00.373216530</td>\n",
       "      <td>Donald Trump</td>\n",
       "    </tr>\n",
       "    <tr>\n",
       "      <th>2</th>\n",
       "      <td>2020-10-15</td>\n",
       "      <td>#Trump: As a student I used to hear for years,...</td>\n",
       "      <td>2.0</td>\n",
       "      <td>1.0</td>\n",
       "      <td>1185.0</td>\n",
       "      <td>Portland</td>\n",
       "      <td>45.520247</td>\n",
       "      <td>-122.674195</td>\n",
       "      <td>Portland</td>\n",
       "      <td>United States of America</td>\n",
       "      <td>North America</td>\n",
       "      <td>Oregon</td>\n",
       "      <td>OR</td>\n",
       "      <td>2020-10-21 00:00:00.746433060</td>\n",
       "      <td>Donald Trump</td>\n",
       "    </tr>\n",
       "    <tr>\n",
       "      <th>3</th>\n",
       "      <td>2020-10-15</td>\n",
       "      <td>2 hours since last tweet from #Trump! Maybe he...</td>\n",
       "      <td>0.0</td>\n",
       "      <td>0.0</td>\n",
       "      <td>32.0</td>\n",
       "      <td>NaN</td>\n",
       "      <td>NaN</td>\n",
       "      <td>NaN</td>\n",
       "      <td>NaN</td>\n",
       "      <td>NaN</td>\n",
       "      <td>NaN</td>\n",
       "      <td>NaN</td>\n",
       "      <td>NaN</td>\n",
       "      <td>2020-10-21 00:00:01.119649591</td>\n",
       "      <td>Donald Trump</td>\n",
       "    </tr>\n",
       "    <tr>\n",
       "      <th>4</th>\n",
       "      <td>2020-10-15</td>\n",
       "      <td>You get a tie! And you get a tie! #Trump ‘s ra...</td>\n",
       "      <td>4.0</td>\n",
       "      <td>3.0</td>\n",
       "      <td>5393.0</td>\n",
       "      <td>Washington DC</td>\n",
       "      <td>38.894992</td>\n",
       "      <td>-77.036558</td>\n",
       "      <td>Washington</td>\n",
       "      <td>United States of America</td>\n",
       "      <td>North America</td>\n",
       "      <td>District of Columbia</td>\n",
       "      <td>DC</td>\n",
       "      <td>2020-10-21 00:00:01.492866121</td>\n",
       "      <td>Donald Trump</td>\n",
       "    </tr>\n",
       "  </tbody>\n",
       "</table>\n",
       "</div>"
      ],
      "text/plain": [
       "   created_at                                              tweet  likes  \\\n",
       "0  2020-10-15  #Elecciones2020 | En #Florida: #JoeBiden dice ...    0.0   \n",
       "1  2020-10-15  Usa 2020, Trump contro Facebook e Twitter: cop...   26.0   \n",
       "2  2020-10-15  #Trump: As a student I used to hear for years,...    2.0   \n",
       "3  2020-10-15  2 hours since last tweet from #Trump! Maybe he...    0.0   \n",
       "4  2020-10-15  You get a tie! And you get a tie! #Trump ‘s ra...    4.0   \n",
       "\n",
       "   retweet_count  user_followers_count                 user_location  \\\n",
       "0            0.0                1860.0  Philadelphia, PA / Miami, FL   \n",
       "1            9.0             1067661.0                           NaN   \n",
       "2            1.0                1185.0                      Portland   \n",
       "3            0.0                  32.0                           NaN   \n",
       "4            3.0                5393.0                 Washington DC   \n",
       "\n",
       "         lat        long        city                   country      continent  \\\n",
       "0  25.774270  -80.193660         NaN  United States of America  North America   \n",
       "1        NaN         NaN         NaN                       NaN            NaN   \n",
       "2  45.520247 -122.674195    Portland  United States of America  North America   \n",
       "3        NaN         NaN         NaN                       NaN            NaN   \n",
       "4  38.894992  -77.036558  Washington  United States of America  North America   \n",
       "\n",
       "                  state state_code                   collected_at  \\\n",
       "0               Florida         FL            2020-10-21 00:00:00   \n",
       "1                   NaN        NaN  2020-10-21 00:00:00.373216530   \n",
       "2                Oregon         OR  2020-10-21 00:00:00.746433060   \n",
       "3                   NaN        NaN  2020-10-21 00:00:01.119649591   \n",
       "4  District of Columbia         DC  2020-10-21 00:00:01.492866121   \n",
       "\n",
       "      candidate  \n",
       "0  Donald Trump  \n",
       "1  Donald Trump  \n",
       "2  Donald Trump  \n",
       "3  Donald Trump  \n",
       "4  Donald Trump  "
      ]
     },
     "execution_count": 35,
     "metadata": {},
     "output_type": "execute_result"
    }
   ],
   "source": [
    "#calculate and compare the X variables between two candidates\n",
    "import datetime as datetime\n",
    "Trump[\"created_at\"] = pd.to_datetime(Trump[\"created_at\"])\n",
    "Trump[\"created_at\"] = Trump[\"created_at\"].apply(lambda x: datetime.datetime.strftime(x, \"%Y-%m-%d\"))\n",
    "\n",
    "Biden[\"created_at\"] = pd.to_datetime(Biden[\"created_at\"])\n",
    "Biden[\"created_at\"] = Biden[\"created_at\"].apply(lambda x: datetime.datetime.strftime(x, \"%Y-%m-%d\"))\n",
    "Trump[\"candidate\"] = \"Donald Trump\"\n",
    "Biden[\"candidate\"] = \"Joe Biden\"\n",
    "mix = pd.concat([Trump,Biden])\n",
    "#merge data set together, slice str in the \"created_at\" column and keep only the date part.\n",
    "mix.head()"
   ]
  },
  {
   "cell_type": "markdown",
   "id": "6a96e14d",
   "metadata": {},
   "source": [
    "#  Summary Statistics "
   ]
  },
  {
   "cell_type": "markdown",
   "id": "24042cf5",
   "metadata": {},
   "source": [
    "### >>> Total Exposure Perspective"
   ]
  },
  {
   "cell_type": "markdown",
   "id": "403b1011",
   "metadata": {},
   "source": [
    "#### Summary Statistics for X variable:\"likes\""
   ]
  },
  {
   "cell_type": "code",
   "execution_count": 5,
   "id": "8d593f8e",
   "metadata": {},
   "outputs": [
    {
     "data": {
      "text/html": [
       "<div>\n",
       "<style scoped>\n",
       "    .dataframe tbody tr th:only-of-type {\n",
       "        vertical-align: middle;\n",
       "    }\n",
       "\n",
       "    .dataframe tbody tr th {\n",
       "        vertical-align: top;\n",
       "    }\n",
       "\n",
       "    .dataframe thead th {\n",
       "        text-align: right;\n",
       "    }\n",
       "</style>\n",
       "<table border=\"1\" class=\"dataframe\">\n",
       "  <thead>\n",
       "    <tr style=\"text-align: right;\">\n",
       "      <th></th>\n",
       "      <th>likes</th>\n",
       "      <th>mean</th>\n",
       "      <th>std</th>\n",
       "      <th>min</th>\n",
       "      <th>25%</th>\n",
       "      <th>50%</th>\n",
       "      <th>75%</th>\n",
       "      <th>max</th>\n",
       "    </tr>\n",
       "    <tr>\n",
       "      <th>candidate</th>\n",
       "      <th></th>\n",
       "      <th></th>\n",
       "      <th></th>\n",
       "      <th></th>\n",
       "      <th></th>\n",
       "      <th></th>\n",
       "      <th></th>\n",
       "      <th></th>\n",
       "    </tr>\n",
       "  </thead>\n",
       "  <tbody>\n",
       "    <tr>\n",
       "      <th>Donald Trump</th>\n",
       "      <td>7259572.0</td>\n",
       "      <td>7.477011</td>\n",
       "      <td>158.058117</td>\n",
       "      <td>0.0</td>\n",
       "      <td>0.0</td>\n",
       "      <td>0.0</td>\n",
       "      <td>1.0</td>\n",
       "      <td>74084.0</td>\n",
       "    </tr>\n",
       "    <tr>\n",
       "      <th>Joe Biden</th>\n",
       "      <td>7894066.0</td>\n",
       "      <td>10.161164</td>\n",
       "      <td>390.974423</td>\n",
       "      <td>0.0</td>\n",
       "      <td>0.0</td>\n",
       "      <td>0.0</td>\n",
       "      <td>2.0</td>\n",
       "      <td>165702.0</td>\n",
       "    </tr>\n",
       "  </tbody>\n",
       "</table>\n",
       "</div>"
      ],
      "text/plain": [
       "                  likes       mean         std  min  25%  50%  75%       max\n",
       "candidate                                                                   \n",
       "Donald Trump  7259572.0   7.477011  158.058117  0.0  0.0  0.0  1.0   74084.0\n",
       "Joe Biden     7894066.0  10.161164  390.974423  0.0  0.0  0.0  2.0  165702.0"
      ]
     },
     "execution_count": 5,
     "metadata": {},
     "output_type": "execute_result"
    }
   ],
   "source": [
    "gb_candidate = mix.groupby([\"candidate\"])\n",
    "pd.concat([gb_candidate[\"likes\"].sum(), \n",
    "           gb_candidate[\"likes\"].describe().drop(columns = [\"count\"])], axis = 1)"
   ]
  },
  {
   "cell_type": "markdown",
   "id": "e24a2d80",
   "metadata": {},
   "source": [
    "The summary stastictics shows that Joe Biden received 7894066 likes in total, which is 634494 more than Donald Trump received. And the mean category also tells that Joe Biden received more likes than Donald Trump on average. The maximum amount of likes for Joe Biden is more than twice as much as Donald Trump. "
   ]
  },
  {
   "cell_type": "markdown",
   "id": "d679e0e2",
   "metadata": {},
   "source": [
    "#### Summary statistics for X variable: \"tweet\""
   ]
  },
  {
   "cell_type": "code",
   "execution_count": 7,
   "id": "91a0d338",
   "metadata": {},
   "outputs": [
    {
     "data": {
      "text/html": [
       "<div>\n",
       "<style scoped>\n",
       "    .dataframe tbody tr th:only-of-type {\n",
       "        vertical-align: middle;\n",
       "    }\n",
       "\n",
       "    .dataframe tbody tr th {\n",
       "        vertical-align: top;\n",
       "    }\n",
       "\n",
       "    .dataframe thead th {\n",
       "        text-align: right;\n",
       "    }\n",
       "</style>\n",
       "<table border=\"1\" class=\"dataframe\">\n",
       "  <thead>\n",
       "    <tr style=\"text-align: right;\">\n",
       "      <th></th>\n",
       "      <th>count</th>\n",
       "      <th>unique</th>\n",
       "      <th>top</th>\n",
       "      <th>freq</th>\n",
       "    </tr>\n",
       "    <tr>\n",
       "      <th>candidate</th>\n",
       "      <th></th>\n",
       "      <th></th>\n",
       "      <th></th>\n",
       "      <th></th>\n",
       "    </tr>\n",
       "  </thead>\n",
       "  <tbody>\n",
       "    <tr>\n",
       "      <th>Donald Trump</th>\n",
       "      <td>970919</td>\n",
       "      <td>958535</td>\n",
       "      <td>#Trump</td>\n",
       "      <td>259</td>\n",
       "    </tr>\n",
       "    <tr>\n",
       "      <th>Joe Biden</th>\n",
       "      <td>776886</td>\n",
       "      <td>768387</td>\n",
       "      <td>#JoeBiden</td>\n",
       "      <td>311</td>\n",
       "    </tr>\n",
       "  </tbody>\n",
       "</table>\n",
       "</div>"
      ],
      "text/plain": [
       "               count  unique        top freq\n",
       "candidate                                   \n",
       "Donald Trump  970919  958535     #Trump  259\n",
       "Joe Biden     776886  768387  #JoeBiden  311"
      ]
     },
     "execution_count": 7,
     "metadata": {},
     "output_type": "execute_result"
    }
   ],
   "source": [
    "gb_candidate[\"tweet\"].describe()"
   ]
  },
  {
   "cell_type": "markdown",
   "id": "095701b4",
   "metadata": {},
   "source": [
    "Overall, Donal Trump had more relative tweets(970919 tweets) than Joe Biden(776886 tweets), while #JoeBiden appears more frequently than #Trump. Meaning that many users are talking about Joe Biden as well."
   ]
  },
  {
   "cell_type": "markdown",
   "id": "ae7ec23d",
   "metadata": {},
   "source": [
    "#### Summary Statistics for X variable:\"retweet_count\""
   ]
  },
  {
   "cell_type": "code",
   "execution_count": 9,
   "id": "4859c04e",
   "metadata": {},
   "outputs": [
    {
     "data": {
      "text/html": [
       "<div>\n",
       "<style scoped>\n",
       "    .dataframe tbody tr th:only-of-type {\n",
       "        vertical-align: middle;\n",
       "    }\n",
       "\n",
       "    .dataframe tbody tr th {\n",
       "        vertical-align: top;\n",
       "    }\n",
       "\n",
       "    .dataframe thead th {\n",
       "        text-align: right;\n",
       "    }\n",
       "</style>\n",
       "<table border=\"1\" class=\"dataframe\">\n",
       "  <thead>\n",
       "    <tr style=\"text-align: right;\">\n",
       "      <th></th>\n",
       "      <th>retweet_count</th>\n",
       "      <th>mean</th>\n",
       "      <th>std</th>\n",
       "      <th>min</th>\n",
       "      <th>25%</th>\n",
       "      <th>50%</th>\n",
       "      <th>75%</th>\n",
       "      <th>max</th>\n",
       "    </tr>\n",
       "    <tr>\n",
       "      <th>candidate</th>\n",
       "      <th></th>\n",
       "      <th></th>\n",
       "      <th></th>\n",
       "      <th></th>\n",
       "      <th></th>\n",
       "      <th></th>\n",
       "      <th></th>\n",
       "      <th></th>\n",
       "    </tr>\n",
       "  </thead>\n",
       "  <tbody>\n",
       "    <tr>\n",
       "      <th>Donald Trump</th>\n",
       "      <td>1649106.0</td>\n",
       "      <td>1.698500</td>\n",
       "      <td>40.028419</td>\n",
       "      <td>0.0</td>\n",
       "      <td>0.0</td>\n",
       "      <td>0.0</td>\n",
       "      <td>0.0</td>\n",
       "      <td>20491.0</td>\n",
       "    </tr>\n",
       "    <tr>\n",
       "      <th>Joe Biden</th>\n",
       "      <td>1655801.0</td>\n",
       "      <td>2.131331</td>\n",
       "      <td>96.661527</td>\n",
       "      <td>0.0</td>\n",
       "      <td>0.0</td>\n",
       "      <td>0.0</td>\n",
       "      <td>0.0</td>\n",
       "      <td>63473.0</td>\n",
       "    </tr>\n",
       "  </tbody>\n",
       "</table>\n",
       "</div>"
      ],
      "text/plain": [
       "              retweet_count      mean        std  min  25%  50%  75%      max\n",
       "candidate                                                                    \n",
       "Donald Trump      1649106.0  1.698500  40.028419  0.0  0.0  0.0  0.0  20491.0\n",
       "Joe Biden         1655801.0  2.131331  96.661527  0.0  0.0  0.0  0.0  63473.0"
      ]
     },
     "execution_count": 9,
     "metadata": {},
     "output_type": "execute_result"
    }
   ],
   "source": [
    "pd.concat([gb_candidate[\"retweet_count\"].sum(), \n",
    "           gb_candidate[\"retweet_count\"].describe().drop(columns = [\"count\"])], axis = 1)"
   ]
  },
  {
   "cell_type": "markdown",
   "id": "2dba4f74",
   "metadata": {},
   "source": [
    "The total number of retweets for Donald Trump and Joe Biden are close. However, the max column shows that the extreme values for Joe Biden is much higher than that for Donald Trump."
   ]
  },
  {
   "cell_type": "markdown",
   "id": "00c2f4d9",
   "metadata": {},
   "source": [
    "#### Summary Statistics for X variable:\"user_followers_count\""
   ]
  },
  {
   "cell_type": "code",
   "execution_count": 11,
   "id": "5290a8d8",
   "metadata": {},
   "outputs": [
    {
     "data": {
      "text/html": [
       "<div>\n",
       "<style scoped>\n",
       "    .dataframe tbody tr th:only-of-type {\n",
       "        vertical-align: middle;\n",
       "    }\n",
       "\n",
       "    .dataframe tbody tr th {\n",
       "        vertical-align: top;\n",
       "    }\n",
       "\n",
       "    .dataframe thead th {\n",
       "        text-align: right;\n",
       "    }\n",
       "</style>\n",
       "<table border=\"1\" class=\"dataframe\">\n",
       "  <thead>\n",
       "    <tr style=\"text-align: right;\">\n",
       "      <th></th>\n",
       "      <th>user_followers_count</th>\n",
       "      <th>mean</th>\n",
       "      <th>std</th>\n",
       "      <th>min</th>\n",
       "      <th>25%</th>\n",
       "      <th>50%</th>\n",
       "      <th>75%</th>\n",
       "      <th>max</th>\n",
       "    </tr>\n",
       "    <tr>\n",
       "      <th>candidate</th>\n",
       "      <th></th>\n",
       "      <th></th>\n",
       "      <th></th>\n",
       "      <th></th>\n",
       "      <th></th>\n",
       "      <th></th>\n",
       "      <th></th>\n",
       "      <th></th>\n",
       "    </tr>\n",
       "  </thead>\n",
       "  <tbody>\n",
       "    <tr>\n",
       "      <th>Donald Trump</th>\n",
       "      <td>2.194624e+10</td>\n",
       "      <td>22603.570878</td>\n",
       "      <td>304215.170174</td>\n",
       "      <td>0.0</td>\n",
       "      <td>77.0</td>\n",
       "      <td>441.0</td>\n",
       "      <td>2066.0</td>\n",
       "      <td>19115332.0</td>\n",
       "    </tr>\n",
       "    <tr>\n",
       "      <th>Joe Biden</th>\n",
       "      <td>2.241312e+10</td>\n",
       "      <td>28849.941210</td>\n",
       "      <td>414108.478188</td>\n",
       "      <td>0.0</td>\n",
       "      <td>74.0</td>\n",
       "      <td>428.0</td>\n",
       "      <td>2081.0</td>\n",
       "      <td>82417099.0</td>\n",
       "    </tr>\n",
       "  </tbody>\n",
       "</table>\n",
       "</div>"
      ],
      "text/plain": [
       "              user_followers_count          mean            std  min   25%  \\\n",
       "candidate                                                                    \n",
       "Donald Trump          2.194624e+10  22603.570878  304215.170174  0.0  77.0   \n",
       "Joe Biden             2.241312e+10  28849.941210  414108.478188  0.0  74.0   \n",
       "\n",
       "                50%     75%         max  \n",
       "candidate                                \n",
       "Donald Trump  441.0  2066.0  19115332.0  \n",
       "Joe Biden     428.0  2081.0  82417099.0  "
      ]
     },
     "execution_count": 11,
     "metadata": {},
     "output_type": "execute_result"
    }
   ],
   "source": [
    "pd.concat([gb_candidate[\"user_followers_count\"].sum(), \n",
    "           gb_candidate[\"user_followers_count\"].describe().drop(columns = [\"count\"])], axis = 1)"
   ]
  },
  {
   "cell_type": "markdown",
   "id": "d724a6f4",
   "metadata": {},
   "source": [
    "Tweets that talks about Joe Biden are from users with more followers than about Donald Trump overall. Again from the max column, the data for Joe Biden is more extreme than that for Donald Trump."
   ]
  },
  {
   "cell_type": "markdown",
   "id": "3a3e55e4",
   "metadata": {},
   "source": [
    "#### Visualization: Comparison using different covariates"
   ]
  },
  {
   "cell_type": "code",
   "execution_count": 12,
   "id": "4876f361",
   "metadata": {},
   "outputs": [
    {
     "data": {
      "text/plain": [
       "Text(0, 0.5, 'Number of followers')"
      ]
     },
     "execution_count": 12,
     "metadata": {},
     "output_type": "execute_result"
    },
    {
     "data": {
      "image/png": "[encoded data removed]",
      "text/plain": [
       "<Figure size 432x288 with 1 Axes>"
      ]
     },
     "metadata": {
      "needs_background": "light"
     },
     "output_type": "display_data"
    }
   ],
   "source": [
    "c = [\"blue\", \"orange\"]\n",
    "gb_candidate[\"user_followers_count\"].sum().plot.bar(color = c)\n",
    "plt.title(\"total followers: Trump vs. Biden\")\n",
    "plt.ylabel(\"Number of followers\")"
   ]
  },
  {
   "cell_type": "markdown",
   "id": "03979f44",
   "metadata": {},
   "source": [
    "As the total number of users followers are significantly larger than number of likes, tweets and retweets, we separate the graph to better visualize the difference. From the bar chart, users that post tweets about Biden have more followers than that about Trump. Tweets from users with more followers are generally more influencial, which means Biden's victory is likely due to the influence of Twitter users. Thus, users followers could be a predictor."
   ]
  },
  {
   "cell_type": "code",
   "execution_count": 30,
   "id": "c7640735",
   "metadata": {},
   "outputs": [
    {
     "data": {
      "text/plain": [
       "Text(0.5, 0, 'variables')"
      ]
     },
     "execution_count": 30,
     "metadata": {},
     "output_type": "execute_result"
    },
    {
     "data": {
      "image/png": "[encoded data removed]",
      "text/plain": [
       "<Figure size 432x288 with 1 Axes>"
      ]
     },
     "metadata": {
      "needs_background": "light"
     },
     "output_type": "display_data"
    }
   ],
   "source": [
    "T_likes = Trump[\"likes\"].sum()\n",
    "T_tweets = Trump[\"tweet\"].count()\n",
    "T_retweets = Trump[\"retweet_count\"].sum()\n",
    "Donald_Trump = [T_likes,T_tweets,T_retweets]\n",
    "\n",
    "B_likes = Biden[\"likes\"].sum()\n",
    "B_tweets = Biden[\"tweet\"].count()\n",
    "B_retweets = Biden[\"retweet_count\"].sum()\n",
    "Joe_Biden = [B_likes,B_tweets,B_retweets]\n",
    "\n",
    "index = [\"likes\", \"tweet\",\"retweets\"]\n",
    "\n",
    "exposure_data = pd.DataFrame({'Donald Trump':Donald_Trump,\"Joe Biden\":Joe_Biden}, index = index)\n",
    "exposure_data.plot.bar(color = c)\n",
    "plt.title(\"Donald Trump vs. Joe Biden\")\n",
    "plt.ylabel(\"Total Number\")\n",
    "plt.xlabel(\"variables\")"
   ]
  },
  {
   "cell_type": "markdown",
   "id": "96ec67e3",
   "metadata": {},
   "source": [
    "Since our research is to examine the relationship between Twitter's features and the election outcome, using bar chart instead of histogram can more efficiently shows the difference. The bar chart above shows the comparison of total number of likes, tweets, and retweets between two candidates. Joe Biden receives a lot more likes than Donald Trump, which means tweets about Biden gain more approval than Donal Trump. However, there are slightly more tweets Donald Trump than Joe Biden. For the number of retweets, there is not a big differece between both candidates. Regardless of whether the tweet is of positive, neutral or negative opinion for candidates, this perspective shows that Joe Biden gain more exposure on twitter before the election. This explains Biden's winning to some extend."
   ]
  },
  {
   "cell_type": "markdown",
   "id": "1f42a0a3",
   "metadata": {},
   "source": [
    "### >>> Timeline Perspective"
   ]
  },
  {
   "cell_type": "markdown",
   "id": "ac47495e",
   "metadata": {},
   "source": [
    "#### Summary Statistics for Timeline Perspective Analysis: \"created_at\""
   ]
  },
  {
   "cell_type": "code",
   "execution_count": 57,
   "id": "c782453a",
   "metadata": {
    "scrolled": true
   },
   "outputs": [
    {
     "data": {
      "text/plain": [
       "created_at  candidate   \n",
       "2020-10-15  Donald Trump     18135\n",
       "            Joe Biden        14949\n",
       "2020-10-16  Donald Trump     24958\n",
       "            Joe Biden        17950\n",
       "2020-10-17  Donald Trump     16958\n",
       "            Joe Biden        11469\n",
       "2020-10-18  Donald Trump     17480\n",
       "            Joe Biden        10374\n",
       "2020-10-19  Donald Trump     19945\n",
       "            Joe Biden        10781\n",
       "2020-10-20  Donald Trump     19053\n",
       "            Joe Biden        11854\n",
       "2020-10-21  Donald Trump     20500\n",
       "            Joe Biden        13443\n",
       "2020-10-22  Donald Trump     22084\n",
       "            Joe Biden        16152\n",
       "2020-10-23  Donald Trump     49353\n",
       "            Joe Biden        45870\n",
       "2020-10-24  Donald Trump     19009\n",
       "            Joe Biden        13105\n",
       "2020-10-25  Donald Trump     17405\n",
       "            Joe Biden        14877\n",
       "2020-10-26  Donald Trump     22289\n",
       "            Joe Biden        13736\n",
       "2020-10-27  Donald Trump     22982\n",
       "            Joe Biden        13616\n",
       "2020-10-28  Donald Trump     24628\n",
       "            Joe Biden        16429\n",
       "2020-10-29  Donald Trump     22051\n",
       "            Joe Biden        13720\n",
       "2020-10-30  Donald Trump     22913\n",
       "            Joe Biden        14625\n",
       "2020-10-31  Donald Trump     22441\n",
       "            Joe Biden        14607\n",
       "2020-11-01  Donald Trump     30574\n",
       "            Joe Biden        17551\n",
       "2020-11-02  Donald Trump     45427\n",
       "            Joe Biden        26067\n",
       "2020-11-03  Donald Trump     67287\n",
       "            Joe Biden        41500\n",
       "2020-11-04  Donald Trump    128259\n",
       "            Joe Biden        99580\n",
       "2020-11-05  Donald Trump     70857\n",
       "            Joe Biden        46874\n",
       "2020-11-06  Donald Trump     85178\n",
       "            Joe Biden        51461\n",
       "2020-11-07  Donald Trump    103723\n",
       "            Joe Biden       150722\n",
       "2020-11-08  Donald Trump     57430\n",
       "            Joe Biden        75574\n",
       "Name: created_at, dtype: int64"
      ]
     },
     "execution_count": 57,
     "metadata": {},
     "output_type": "execute_result"
    }
   ],
   "source": [
    "gb_date = mix.groupby([\"created_at\",\"candidate\"])\n",
    "gb_date[\"created_at\"].count()"
   ]
  },
  {
   "cell_type": "markdown",
   "id": "b26a3527",
   "metadata": {},
   "source": [
    "The third column of numbers is the sum of tweets. The summary statistics above shows the total number of tweets every day for each candidate. "
   ]
  },
  {
   "cell_type": "markdown",
   "id": "1a6d3a0a",
   "metadata": {},
   "source": [
    "#### Visualization: Daily Changes in Tweets, Likes and Retweets"
   ]
  },
  {
   "cell_type": "code",
   "execution_count": 60,
   "id": "c74d7655",
   "metadata": {},
   "outputs": [
    {
     "data": {
      "text/plain": [
       "<AxesSubplot:title={'center':'Daily Tweets Changes'}, xlabel='Date', ylabel='Number of Tweets'>"
      ]
     },
     "execution_count": 60,
     "metadata": {},
     "output_type": "execute_result"
    },
    {
     "data": {
      "image/png": "[encoded data removed]",
      "text/plain": [
       "<Figure size 432x288 with 1 Axes>"
      ]
     },
     "metadata": {
      "needs_background": "light"
     },
     "output_type": "display_data"
    }
   ],
   "source": [
    "Trump.groupby([\"created_at\"])['tweet'].count().plot(xlabel = \"Date\", \n",
    "                                                    ylabel = \"Number of Tweets\",  \n",
    "                                                    color = 'blue')\n",
    "Biden.groupby([\"created_at\"])['tweet'].count().plot(xlabel = \"Date\", \n",
    "                                                    ylabel = \"Number of Tweets\", \n",
    "                                                    title = \"Daily Tweets Changes\", \n",
    "                                                    color = 'orange',\n",
    "                                                   grid = True)"
   ]
  },
  {
   "cell_type": "markdown",
   "id": "0b9b1b04",
   "metadata": {},
   "source": [
    "The line chart above shows the trend in the number of tweets related to each candidate in the month around the election. The BLUE line represents Trump's data and the ORANGE line represents Biden's. The number of tweets related to Trump was larger than Biden's until November 7, but the election was actually on November 3. This means biden's surge in daily tweets and continued to surpass Trump's is due to Biden's election victory. Therefore, the number of tweets per day is not a good predictor of election results"
   ]
  },
  {
   "cell_type": "code",
   "execution_count": 61,
   "id": "a5f2f6a9",
   "metadata": {},
   "outputs": [
    {
     "data": {
      "text/plain": [
       "<AxesSubplot:title={'center':'Daily Likes Changes'}, xlabel='Date', ylabel='Number of Likes'>"
      ]
     },
     "execution_count": 61,
     "metadata": {},
     "output_type": "execute_result"
    },
    {
     "data": {
      "image/png": "[encoded data removed]",
      "text/plain": [
       "<Figure size 432x288 with 1 Axes>"
      ]
     },
     "metadata": {
      "needs_background": "light"
     },
     "output_type": "display_data"
    }
   ],
   "source": [
    "Trump.groupby([\"created_at\"])['likes'].sum().plot(xlabel = \"Date\", \n",
    "                                                    ylabel = \"Number of Likes\",  \n",
    "                                                    color = 'blue')\n",
    "                        \n",
    "Biden.groupby([\"created_at\"])['likes'].sum().plot(xlabel = \"Date\", \n",
    "                                                    ylabel = \"Number of Likes\", \n",
    "                                                    title = \"Daily Likes Changes\", \n",
    "                                                    color = 'orange',\n",
    "                                                 grid = True)"
   ]
  },
  {
   "cell_type": "markdown",
   "id": "b6e23b38",
   "metadata": {},
   "source": [
    "Similar to the \"Daily Tweets Changes\", this line chart shows the total number of daily likes on tweets related to the two candidates (Donald Trump in blue and Joe Biden in orange). Before the end of October, the posts related to Trump and Baiyanwe received almost the same number of likes, except for a few small fluctuations, but the closer we got to the election date, Trump got more likes and surpassed Biden's."
   ]
  },
  {
   "cell_type": "code",
   "execution_count": 63,
   "id": "7b21a65f",
   "metadata": {},
   "outputs": [
    {
     "data": {
      "text/plain": [
       "<AxesSubplot:title={'center':'Daily Retweets Changes'}, xlabel='Date', ylabel='Number of Retweets'>"
      ]
     },
     "execution_count": 63,
     "metadata": {},
     "output_type": "execute_result"
    },
    {
     "data": {
      "image/png": "[encoded data removed]",
      "text/plain": [
       "<Figure size 432x288 with 1 Axes>"
      ]
     },
     "metadata": {
      "needs_background": "light"
     },
     "output_type": "display_data"
    }
   ],
   "source": [
    "Trump.groupby([\"created_at\"])['retweet_count'].sum().plot(xlabel = \"Date\", \n",
    "                                                    ylabel = \"Number of Retweets\",  \n",
    "                                                    color = 'blue')\n",
    "Biden.groupby([\"created_at\"])['retweet_count'].sum().plot(xlabel = \"Date\", \n",
    "                                                    ylabel = \"Number of Retweets\", \n",
    "                                                    title = \"Daily Retweets Changes\", \n",
    "                                                    color = 'orange',\n",
    "                                                         grid = True)"
   ]
  },
  {
   "cell_type": "markdown",
   "id": "8730c67f",
   "metadata": {},
   "source": [
    "Similar to the trends in the previous two charts, both candidates were very similar in terms of daily retweets until the end of October. As election day approached, the number of retweets related to both candidates went up, but Trump's numbers still surpassed Biden's."
   ]
  },
  {
   "cell_type": "markdown",
   "id": "193fa0c8",
   "metadata": {},
   "source": [
    "# Summary"
   ]
  },
  {
   "cell_type": "markdown",
   "id": "ff1ec543",
   "metadata": {},
   "source": [
    "To sum up, a lot of data on Twitter can help us predict the election results to some extent. By comparing the total number of tweets, likes, retweets and followers, we can intuitively see that Joe Biden's influence on social platforms and total topic exposure are higher than Donald Trump’s, which plays a certain role in Biden's election as president. However, since the changes in data could not be seen from the perspective of total exposure, we re-grouped the data according to the date and candidates, and compared how the number of tweets, likes and retweets changed on a daily basis from the perspective of timeline in one month around election date. We found that all the relevant independent variables tended to increase the closer you got to the election date. However, Biden's data were overtaken by Trump's closer to the election date. This is something we'll be exploring in more detail in Future Step."
   ]
  },
  {
   "cell_type": "markdown",
   "id": "db6b9403",
   "metadata": {},
   "source": [
    "# Future Step"
   ]
  },
  {
   "cell_type": "markdown",
   "id": "9ecfb4ed",
   "metadata": {},
   "source": [
    "In the future, we will focus on examining the following issues:\n",
    "\n",
    "First, in terms of Timeline perspective, since Biden's data was lower than Trump's few days before the election date, which cannot explain the result of Biden's election as president, we will divide the time period into two periods to analyze the trend before and after the election. In this way, we can not only study how the information on Twitter predicts the election results, but also how the election results change the information on Twitter. which means we will focus on the interchangable relationship between the outcome(election result) and covariates(tweets,  likes, retwees, followers).\n",
    "\n",
    "Secondly, in total exposure Perspective, we analyze the total amount of data, but this leads our analysis to be biased as there are a lot of extreme values. We are not able to see whether the related tweets are positive, neutral or negative for the voters. Therefore, in the following research, we will try to analyze the content of tweets by sorting hashtags and so on. If the positivity or negativity of the posts could be detected, the first issue about Biden having lower numbers than Trump might be explained -- we hypothesized that it was possible that Trump had more posts but mostly negative ones.\n",
    "\n",
    "Thirdly, due to some bias in the first two perspectives, we cannot confidently infer that the information of Twitter can effectively predict the election results. We will further analyze from the geographical perspective.\n"
   ]
  }
 ],
 "metadata": {
  "kernelspec": {
   "display_name": "Python 3 (ipykernel)",
   "language": "python",
   "name": "python3"
  },
  "language_info": {
   "codemirror_mode": {
    "name": "ipython",
    "version": 3
   },
   "file_extension": ".py",
   "mimetype": "text/x-python",
   "name": "python",
   "nbconvert_exporter": "python",
   "pygments_lexer": "ipython3",
   "version": "3.9.7"
  }
 },
 "nbformat": 4,
 "nbformat_minor": 5
}
